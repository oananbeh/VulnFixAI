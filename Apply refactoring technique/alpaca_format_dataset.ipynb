{
 "cells": [
  {
   "cell_type": "markdown",
   "metadata": {},
   "source": [
    "### the prompt to create the alpaca dataset\n",
    "\n",
    "prompt will be \"find the vulanalibilty {CWE ID}  in the following code: {Code Snippet}\" \n",
    "\n",
    "completion will be {Exact Vulnerable Line}\n",
    "\n",
    "\n",
    "\n",
    "prompt will be \"fix the vulanalibilty {CWE ID}  in the following code: {Code Snippet}\"\n",
    "completion will be {Fixed Code Snippet}"
   ]
  },
  {
   "cell_type": "code",
   "execution_count": 1,
   "metadata": {},
   "outputs": [
    {
     "name": "stdout",
     "output_type": "stream",
     "text": [
      "Total number of rows: 20000\n"
     ]
    }
   ],
   "source": [
    "# this code is used to convert the dataset to the alpaca format\n",
    "import pandas as pd\n",
    "\n",
    "# Read the CSV file\n",
    "file_path = '/Users/obiedaananbeh/Desktop/Repo/VulDediction/DataSet/dataSet_withFixes.csv'\n",
    "df = pd.read_csv(file_path)\n",
    "\n",
    "# Create the alpaca format\n",
    "df_find = df[['CWE ID', 'Code Snippet', 'Exact Vulnerable Line', 'Description']].copy()\n",
    "df_find['instruction'] = df_find.apply(lambda row: f\"Analyze the following code for {row['CWE ID']} Please identify the exact line where {row['CWE ID']} occurs and explain why this line is vulnerable.: \", axis=1)\n",
    "df_find['input'] = df_find['Code Snippet']\n",
    "df_find['output'] = df_find.apply(lambda row: f\"{row['Exact Vulnerable Line']}\\nDescription: {row['Description']}\", axis=1)\n",
    "\n",
    "df_fix = df[['CWE ID', 'Code Snippet', 'code_fix']].copy()\n",
    "df_fix['instruction'] = df_fix.apply(lambda row: f\"apply a fix for the vulnerability associated with {row['CWE ID']} in the following code snippet: \", axis=1)\n",
    "df_fix['input'] = df_fix['Code Snippet']\n",
    "df_fix['output'] = df_fix['code_fix']\n",
    "\n",
    "df = pd.concat([df_find[['instruction', 'input', 'output']], df_fix[['instruction', 'input', 'output']]], ignore_index=True)\n",
    "\n",
    "# Save the new dataframe to a CSV file\n",
    "output_file_path = '/Users/obiedaananbeh/Desktop/Repo/VulDediction/DataSet/VulnFixAI_dataset.csv'\n",
    "df.to_csv(output_file_path, index=False)\n",
    "# Print the count of rows in the dataframe\n",
    "print(f\"Total number of rows: {len(df)}\")"
   ]
  }
 ],
 "metadata": {
  "kernelspec": {
   "display_name": ".venv",
   "language": "python",
   "name": "python3"
  },
  "language_info": {
   "codemirror_mode": {
    "name": "ipython",
    "version": 3
   },
   "file_extension": ".py",
   "mimetype": "text/x-python",
   "name": "python",
   "nbconvert_exporter": "python",
   "pygments_lexer": "ipython3",
   "version": "3.12.6"
  }
 },
 "nbformat": 4,
 "nbformat_minor": 2
}
